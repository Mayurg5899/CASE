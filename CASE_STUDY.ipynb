{
 "cells": [
  {
   "cell_type": "markdown",
   "id": "posted-treatment",
   "metadata": {},
   "source": [
    "\n",
    "# SnapTravel Case Study: Data Analyst\n",
    "\n",
    "# Context\n",
    "SnapTravel is an online travel agency that sells hotel rooms to consumers through our\n",
    "automated chat-bot, accessible through Google Hotel Ads, Kayak, and other external meta\n",
    "channels. We constantly strive to make business changes at each stage of our business funnel\n",
    "that help users find the best deal in the easiest way possible.\n",
    "The data dictionary can be found at the end of this document.\n",
    "\n",
    "\n",
    "\n",
    "Question 1\n",
    "Using the attached data, find 1-2 things about our booking funnel that you think are important to\n",
    "track and then create 5 visualizations that would help you track that metric:\n",
    "- What other data sources would you add assuming they were available?\n",
    "- Please prepare your presentation for a business audience but be ready to answer\n",
    "technical questions (perhaps in an appendix).\n",
    "\n",
    "Question 2\n",
    "If you were tasked with expanding the snaptravel business into a new area of the world, how\n",
    "would you approach that problem? What data would you need? Who would you involve?\n",
    "Provide a brief description of your process (300 words or less).\n",
    "\n",
    "Data Dictionary\n",
    "The below table has data on a subset of itineraries from a specific meta channel between the\n",
    "dates of July 1st 2019 and September 15th, 2019. For these purposes, Snaptravel’s booking\n",
    "funnel can be defined as:\n",
    "1. Impression on a Snaptravel ad\n",
    "2. Transition page open\n",
    "3. Booking form open\n",
    "4. Booking\n",
    "\n",
    "# Field Data\n",
    "\n",
    "    Type                      Description\n",
    "    __________________________________________________________\n",
    "    \n",
    "\n",
    "SEARCH_DATE            :    date Date that the search occurred on.\n",
    "\n",
    "\n",
    "HOTEL_ID               :    int Unique identifier for a hotel\n",
    "\n",
    "\n",
    "CHECK_IN_DATE          :  date Date first night of the users hotel stay\n",
    "\n",
    "\n",
    "ELIGIBLE_IMPRESSIONS   : int Number of total users that viewed that itinerary (not specific to Snaptravel)\n",
    "\n",
    "\n",
    "IMPRESSIONS            :  int Number of total users that viewed Snaptravel’s advertisement for the searched itinerary\n",
    "\n",
    "\n",
    "\n",
    "TRANSITION_PAGE_OPENS  : int Number of times that the transition page that redirects and user to the Snaptravel platform was                            opened\n",
    "\n",
    "\n",
    "BOOKING_FORM OPENS     :   int Number of times that the booking form that delineates\n",
    "                        all of the booking details before finalizing the booking\n",
    "                        \n",
    "                        \n",
    "\n",
    "BOOKINGS               : int Number of completed bookings"
   ]
  },
  {
   "cell_type": "markdown",
   "id": "passing-chase",
   "metadata": {},
   "source": [
    "# reading of file or loading csv file into pandas dataframe\n",
    "# and importing all the required libraries for initial exploration\n",
    "# of the dataset "
   ]
  },
  {
   "cell_type": "code",
   "execution_count": 1,
   "id": "honest-malawi",
   "metadata": {},
   "outputs": [],
   "source": [
    "#importing of libraries in python\n",
    "import pandas as pd\n",
    "import numpy as np\n",
    "import matplotlib.pyplot as plt\n",
    "import seaborn as sns\n",
    "import scipy.stats as st\n",
    "import datetime\n",
    "\n",
    "\n",
    "# to suppress warnings \n",
    "from warnings import filterwarnings\n",
    "filterwarnings('ignore')\n",
    "\n",
    "#pd.options.display.max_columns=True\n",
    "\n",
    "# pd.options.display.max_rows=True"
   ]
  },
  {
   "cell_type": "code",
   "execution_count": 2,
   "id": "advanced-indicator",
   "metadata": {},
   "outputs": [
    {
     "data": {
      "text/html": [
       "<div>\n",
       "<style scoped>\n",
       "    .dataframe tbody tr th:only-of-type {\n",
       "        vertical-align: middle;\n",
       "    }\n",
       "\n",
       "    .dataframe tbody tr th {\n",
       "        vertical-align: top;\n",
       "    }\n",
       "\n",
       "    .dataframe thead th {\n",
       "        text-align: right;\n",
       "    }\n",
       "</style>\n",
       "<table border=\"1\" class=\"dataframe\">\n",
       "  <thead>\n",
       "    <tr style=\"text-align: right;\">\n",
       "      <th></th>\n",
       "      <th>SEARCH_DATE</th>\n",
       "      <th>HOTEL_ID</th>\n",
       "      <th>CHECK_IN_DATE</th>\n",
       "      <th>ELIGIBLE_IMPRESSIONS</th>\n",
       "      <th>IMPRESSIONS</th>\n",
       "      <th>TRANSITION_PAGE_OPENS</th>\n",
       "      <th>BOOKING_FORM_OPENS</th>\n",
       "      <th>BOOKINGS</th>\n",
       "    </tr>\n",
       "  </thead>\n",
       "  <tbody>\n",
       "    <tr>\n",
       "      <th>0</th>\n",
       "      <td>2019-08-31</td>\n",
       "      <td>122695</td>\n",
       "      <td>2019-08-31</td>\n",
       "      <td>1927</td>\n",
       "      <td>1715</td>\n",
       "      <td>464</td>\n",
       "      <td>83</td>\n",
       "      <td>8</td>\n",
       "    </tr>\n",
       "    <tr>\n",
       "      <th>1</th>\n",
       "      <td>2019-09-01</td>\n",
       "      <td>118583</td>\n",
       "      <td>2019-09-01</td>\n",
       "      <td>2052</td>\n",
       "      <td>1114</td>\n",
       "      <td>258</td>\n",
       "      <td>47</td>\n",
       "      <td>3</td>\n",
       "    </tr>\n",
       "    <tr>\n",
       "      <th>2</th>\n",
       "      <td>2019-07-03</td>\n",
       "      <td>139402</td>\n",
       "      <td>2019-07-05</td>\n",
       "      <td>2482</td>\n",
       "      <td>1398</td>\n",
       "      <td>282</td>\n",
       "      <td>55</td>\n",
       "      <td>3</td>\n",
       "    </tr>\n",
       "    <tr>\n",
       "      <th>3</th>\n",
       "      <td>2019-07-05</td>\n",
       "      <td>122212</td>\n",
       "      <td>2019-07-05</td>\n",
       "      <td>1838</td>\n",
       "      <td>802</td>\n",
       "      <td>207</td>\n",
       "      <td>21</td>\n",
       "      <td>2</td>\n",
       "    </tr>\n",
       "    <tr>\n",
       "      <th>4</th>\n",
       "      <td>2019-08-31</td>\n",
       "      <td>125186</td>\n",
       "      <td>2019-09-02</td>\n",
       "      <td>3484</td>\n",
       "      <td>774</td>\n",
       "      <td>200</td>\n",
       "      <td>37</td>\n",
       "      <td>2</td>\n",
       "    </tr>\n",
       "  </tbody>\n",
       "</table>\n",
       "</div>"
      ],
      "text/plain": [
       "  SEARCH_DATE  HOTEL_ID CHECK_IN_DATE  ELIGIBLE_IMPRESSIONS  IMPRESSIONS  \\\n",
       "0  2019-08-31    122695    2019-08-31                  1927         1715   \n",
       "1  2019-09-01    118583    2019-09-01                  2052         1114   \n",
       "2  2019-07-03    139402    2019-07-05                  2482         1398   \n",
       "3  2019-07-05    122212    2019-07-05                  1838          802   \n",
       "4  2019-08-31    125186    2019-09-02                  3484          774   \n",
       "\n",
       "   TRANSITION_PAGE_OPENS  BOOKING_FORM_OPENS  BOOKINGS  \n",
       "0                    464                  83         8  \n",
       "1                    258                  47         3  \n",
       "2                    282                  55         3  \n",
       "3                    207                  21         2  \n",
       "4                    200                  37         2  "
      ]
     },
     "execution_count": 2,
     "metadata": {},
     "output_type": "execute_result"
    }
   ],
   "source": [
    "#reading of file or loading csv file into pandas dataframe\n",
    "\n",
    "df = pd.read_csv(\"funnel_analysis.csv\")\n",
    "\n",
    "df.head()"
   ]
  },
  {
   "cell_type": "code",
   "execution_count": 3,
   "id": "unlimited-iceland",
   "metadata": {},
   "outputs": [
    {
     "data": {
      "text/plain": [
       "(74582, 8)"
      ]
     },
     "execution_count": 3,
     "metadata": {},
     "output_type": "execute_result"
    }
   ],
   "source": [
    "#shape of the data \n",
    "\n",
    "df.shape\n",
    "\n",
    "#so there are 74582 rows and 8 columns in the dataset "
   ]
  },
  {
   "cell_type": "code",
   "execution_count": 4,
   "id": "material-advice",
   "metadata": {},
   "outputs": [
    {
     "name": "stdout",
     "output_type": "stream",
     "text": [
      "<class 'pandas.core.frame.DataFrame'>\n",
      "RangeIndex: 74582 entries, 0 to 74581\n",
      "Data columns (total 8 columns):\n",
      " #   Column                 Non-Null Count  Dtype \n",
      "---  ------                 --------------  ----- \n",
      " 0   SEARCH_DATE            74582 non-null  object\n",
      " 1   HOTEL_ID               74582 non-null  int64 \n",
      " 2   CHECK_IN_DATE          74582 non-null  object\n",
      " 3   ELIGIBLE_IMPRESSIONS   74582 non-null  int64 \n",
      " 4   IMPRESSIONS            74582 non-null  int64 \n",
      " 5   TRANSITION_PAGE_OPENS  74582 non-null  int64 \n",
      " 6   BOOKING_FORM_OPENS     74582 non-null  int64 \n",
      " 7   BOOKINGS               74582 non-null  int64 \n",
      "dtypes: int64(6), object(2)\n",
      "memory usage: 4.0+ MB\n"
     ]
    }
   ],
   "source": [
    "#general info of the dataset \n",
    "df.info()"
   ]
  },
  {
   "cell_type": "markdown",
   "id": "excellent-folder",
   "metadata": {},
   "source": [
    "# checking data-types and making changes if required "
   ]
  },
  {
   "cell_type": "code",
   "execution_count": 5,
   "id": "impaired-camcorder",
   "metadata": {},
   "outputs": [
    {
     "data": {
      "text/plain": [
       "SEARCH_DATE              object\n",
       "HOTEL_ID                  int64\n",
       "CHECK_IN_DATE            object\n",
       "ELIGIBLE_IMPRESSIONS      int64\n",
       "IMPRESSIONS               int64\n",
       "TRANSITION_PAGE_OPENS     int64\n",
       "BOOKING_FORM_OPENS        int64\n",
       "BOOKINGS                  int64\n",
       "dtype: object"
      ]
     },
     "execution_count": 5,
     "metadata": {},
     "output_type": "execute_result"
    }
   ],
   "source": [
    "#checking of dtypes and chaning of data -types if required \n",
    "\n",
    "df.dtypes"
   ]
  },
  {
   "cell_type": "code",
   "execution_count": 6,
   "id": "deadly-thought",
   "metadata": {},
   "outputs": [
    {
     "data": {
      "text/plain": [
       "SEARCH_DATE              datetime64[ns]\n",
       "HOTEL_ID                       category\n",
       "CHECK_IN_DATE            datetime64[ns]\n",
       "ELIGIBLE_IMPRESSIONS              int64\n",
       "IMPRESSIONS                       int64\n",
       "TRANSITION_PAGE_OPENS             int64\n",
       "BOOKING_FORM_OPENS                int64\n",
       "BOOKINGS                          int64\n",
       "dtype: object"
      ]
     },
     "execution_count": 6,
     "metadata": {},
     "output_type": "execute_result"
    }
   ],
   "source": [
    "#so above we found date search_date and check_in_date are datetype object but here are they \n",
    "#are considered as object datatype so it is better to convert it back to original type which is data for them\n",
    "\n",
    "#so lets make the datatype right for date columns\n",
    "\n",
    "df[\"SEARCH_DATE\"] = pd.to_datetime(df[\"SEARCH_DATE\"])\n",
    "df[\"CHECK_IN_DATE\"] = pd.to_datetime(df[\"CHECK_IN_DATE\"])\n",
    "\n",
    "#also i feel the Hotel id is also seems to be not right\n",
    "#datatype as integer so it is better to convert it to \n",
    "#the category columns \n",
    "\n",
    "df[\"HOTEL_ID\"] = df[\"HOTEL_ID\"].astype(\"category\")\n",
    "\n",
    "df.dtypes"
   ]
  },
  {
   "cell_type": "code",
   "execution_count": 7,
   "id": "failing-house",
   "metadata": {},
   "outputs": [
    {
     "data": {
      "text/html": [
       "<div>\n",
       "<style scoped>\n",
       "    .dataframe tbody tr th:only-of-type {\n",
       "        vertical-align: middle;\n",
       "    }\n",
       "\n",
       "    .dataframe tbody tr th {\n",
       "        vertical-align: top;\n",
       "    }\n",
       "\n",
       "    .dataframe thead th {\n",
       "        text-align: right;\n",
       "    }\n",
       "</style>\n",
       "<table border=\"1\" class=\"dataframe\">\n",
       "  <thead>\n",
       "    <tr style=\"text-align: right;\">\n",
       "      <th></th>\n",
       "      <th>SEARCH_DATE</th>\n",
       "      <th>HOTEL_ID</th>\n",
       "      <th>CHECK_IN_DATE</th>\n",
       "      <th>ELIGIBLE_IMPRESSIONS</th>\n",
       "      <th>IMPRESSIONS</th>\n",
       "      <th>TRANSITION_PAGE_OPENS</th>\n",
       "      <th>BOOKING_FORM_OPENS</th>\n",
       "      <th>BOOKINGS</th>\n",
       "    </tr>\n",
       "  </thead>\n",
       "  <tbody>\n",
       "    <tr>\n",
       "      <th>0</th>\n",
       "      <td>2019-08-31</td>\n",
       "      <td>122695</td>\n",
       "      <td>2019-08-31</td>\n",
       "      <td>1927</td>\n",
       "      <td>1715</td>\n",
       "      <td>464</td>\n",
       "      <td>83</td>\n",
       "      <td>8</td>\n",
       "    </tr>\n",
       "    <tr>\n",
       "      <th>1</th>\n",
       "      <td>2019-09-01</td>\n",
       "      <td>118583</td>\n",
       "      <td>2019-09-01</td>\n",
       "      <td>2052</td>\n",
       "      <td>1114</td>\n",
       "      <td>258</td>\n",
       "      <td>47</td>\n",
       "      <td>3</td>\n",
       "    </tr>\n",
       "    <tr>\n",
       "      <th>2</th>\n",
       "      <td>2019-07-03</td>\n",
       "      <td>139402</td>\n",
       "      <td>2019-07-05</td>\n",
       "      <td>2482</td>\n",
       "      <td>1398</td>\n",
       "      <td>282</td>\n",
       "      <td>55</td>\n",
       "      <td>3</td>\n",
       "    </tr>\n",
       "    <tr>\n",
       "      <th>3</th>\n",
       "      <td>2019-07-05</td>\n",
       "      <td>122212</td>\n",
       "      <td>2019-07-05</td>\n",
       "      <td>1838</td>\n",
       "      <td>802</td>\n",
       "      <td>207</td>\n",
       "      <td>21</td>\n",
       "      <td>2</td>\n",
       "    </tr>\n",
       "    <tr>\n",
       "      <th>4</th>\n",
       "      <td>2019-08-31</td>\n",
       "      <td>125186</td>\n",
       "      <td>2019-09-02</td>\n",
       "      <td>3484</td>\n",
       "      <td>774</td>\n",
       "      <td>200</td>\n",
       "      <td>37</td>\n",
       "      <td>2</td>\n",
       "    </tr>\n",
       "  </tbody>\n",
       "</table>\n",
       "</div>"
      ],
      "text/plain": [
       "  SEARCH_DATE HOTEL_ID CHECK_IN_DATE  ELIGIBLE_IMPRESSIONS  IMPRESSIONS  \\\n",
       "0  2019-08-31   122695    2019-08-31                  1927         1715   \n",
       "1  2019-09-01   118583    2019-09-01                  2052         1114   \n",
       "2  2019-07-03   139402    2019-07-05                  2482         1398   \n",
       "3  2019-07-05   122212    2019-07-05                  1838          802   \n",
       "4  2019-08-31   125186    2019-09-02                  3484          774   \n",
       "\n",
       "   TRANSITION_PAGE_OPENS  BOOKING_FORM_OPENS  BOOKINGS  \n",
       "0                    464                  83         8  \n",
       "1                    258                  47         3  \n",
       "2                    282                  55         3  \n",
       "3                    207                  21         2  \n",
       "4                    200                  37         2  "
      ]
     },
     "execution_count": 7,
     "metadata": {},
     "output_type": "execute_result"
    }
   ],
   "source": [
    "df.head()\n",
    "\n",
    "#so using above method we have convert the date columns from object dtypes to original\n",
    "#date types in python and now all datatypes are seems to be correct and \n",
    "#we are ready for more exploration "
   ]
  },
  {
   "cell_type": "markdown",
   "id": "exact-tonight",
   "metadata": {},
   "source": [
    "# checking of missing values  "
   ]
  },
  {
   "cell_type": "code",
   "execution_count": 8,
   "id": "romance-partnership",
   "metadata": {},
   "outputs": [
    {
     "data": {
      "text/plain": [
       "SEARCH_DATE              0\n",
       "HOTEL_ID                 0\n",
       "CHECK_IN_DATE            0\n",
       "ELIGIBLE_IMPRESSIONS     0\n",
       "IMPRESSIONS              0\n",
       "TRANSITION_PAGE_OPENS    0\n",
       "BOOKING_FORM_OPENS       0\n",
       "BOOKINGS                 0\n",
       "dtype: int64"
      ]
     },
     "execution_count": 8,
     "metadata": {},
     "output_type": "execute_result"
    }
   ],
   "source": [
    "#checking missing values in the dataset \n",
    "\n",
    "df.isnull().sum()\n"
   ]
  },
  {
   "cell_type": "code",
   "execution_count": 9,
   "id": "burning-criterion",
   "metadata": {},
   "outputs": [
    {
     "data": {
      "text/plain": [
       "<AxesSubplot:>"
      ]
     },
     "execution_count": 9,
     "metadata": {},
     "output_type": "execute_result"
    },
    {
     "data": {
      "image/png": "[encoded data removed]",
      "text/plain": [
       "<Figure size 432x288 with 2 Axes>"
      ]
     },
     "metadata": {
      "needs_background": "light"
     },
     "output_type": "display_data"
    }
   ],
   "source": [
    "#visualization to analyze for missing values \n",
    "\n",
    "sns.heatmap(df.isnull())\n",
    "\n",
    "#so from the heatmap and seeing the above results we found'\n",
    "#that there is no missing values present in the datastet\n",
    "#so we can go further for our analysing \n"
   ]
  },
  {
   "cell_type": "markdown",
   "id": "acknowledged-degree",
   "metadata": {},
   "source": [
    "# checking for duplicated values in the dataset  "
   ]
  },
  {
   "cell_type": "code",
   "execution_count": 10,
   "id": "sublime-acquisition",
   "metadata": {},
   "outputs": [
    {
     "data": {
      "text/plain": [
       "0"
      ]
     },
     "execution_count": 10,
     "metadata": {},
     "output_type": "execute_result"
    }
   ],
   "source": [
    "#checking for duplicated values in the dataset \n",
    "\n",
    "df.duplicated().sum()\n",
    "\n",
    "#so there seems to be no duplicate values also present in the dataset \n",
    "\n"
   ]
  },
  {
   "cell_type": "code",
   "execution_count": 11,
   "id": "thick-tablet",
   "metadata": {},
   "outputs": [
    {
     "data": {
      "text/html": [
       "<div>\n",
       "<style scoped>\n",
       "    .dataframe tbody tr th:only-of-type {\n",
       "        vertical-align: middle;\n",
       "    }\n",
       "\n",
       "    .dataframe tbody tr th {\n",
       "        vertical-align: top;\n",
       "    }\n",
       "\n",
       "    .dataframe thead th {\n",
       "        text-align: right;\n",
       "    }\n",
       "</style>\n",
       "<table border=\"1\" class=\"dataframe\">\n",
       "  <thead>\n",
       "    <tr style=\"text-align: right;\">\n",
       "      <th></th>\n",
       "      <th>SEARCH_DATE</th>\n",
       "      <th>HOTEL_ID</th>\n",
       "      <th>CHECK_IN_DATE</th>\n",
       "      <th>ELIGIBLE_IMPRESSIONS</th>\n",
       "      <th>IMPRESSIONS</th>\n",
       "      <th>TRANSITION_PAGE_OPENS</th>\n",
       "      <th>BOOKING_FORM_OPENS</th>\n",
       "      <th>BOOKINGS</th>\n",
       "    </tr>\n",
       "  </thead>\n",
       "  <tbody>\n",
       "    <tr>\n",
       "      <th>0</th>\n",
       "      <td>2019-07-01</td>\n",
       "      <td>107590</td>\n",
       "      <td>2019-07-01</td>\n",
       "      <td>82</td>\n",
       "      <td>3</td>\n",
       "      <td>1</td>\n",
       "      <td>0</td>\n",
       "      <td>0</td>\n",
       "    </tr>\n",
       "    <tr>\n",
       "      <th>1</th>\n",
       "      <td>2019-07-01</td>\n",
       "      <td>169933</td>\n",
       "      <td>2019-07-01</td>\n",
       "      <td>118</td>\n",
       "      <td>13</td>\n",
       "      <td>4</td>\n",
       "      <td>1</td>\n",
       "      <td>0</td>\n",
       "    </tr>\n",
       "    <tr>\n",
       "      <th>2</th>\n",
       "      <td>2019-07-01</td>\n",
       "      <td>152618</td>\n",
       "      <td>2019-07-02</td>\n",
       "      <td>24</td>\n",
       "      <td>10</td>\n",
       "      <td>2</td>\n",
       "      <td>0</td>\n",
       "      <td>0</td>\n",
       "    </tr>\n",
       "    <tr>\n",
       "      <th>3</th>\n",
       "      <td>2019-07-01</td>\n",
       "      <td>252608</td>\n",
       "      <td>2019-07-01</td>\n",
       "      <td>28</td>\n",
       "      <td>1</td>\n",
       "      <td>0</td>\n",
       "      <td>0</td>\n",
       "      <td>0</td>\n",
       "    </tr>\n",
       "    <tr>\n",
       "      <th>4</th>\n",
       "      <td>2019-07-01</td>\n",
       "      <td>145352</td>\n",
       "      <td>2019-07-02</td>\n",
       "      <td>7</td>\n",
       "      <td>1</td>\n",
       "      <td>0</td>\n",
       "      <td>0</td>\n",
       "      <td>0</td>\n",
       "    </tr>\n",
       "  </tbody>\n",
       "</table>\n",
       "</div>"
      ],
      "text/plain": [
       "  SEARCH_DATE HOTEL_ID CHECK_IN_DATE  ELIGIBLE_IMPRESSIONS  IMPRESSIONS  \\\n",
       "0  2019-07-01   107590    2019-07-01                    82            3   \n",
       "1  2019-07-01   169933    2019-07-01                   118           13   \n",
       "2  2019-07-01   152618    2019-07-02                    24           10   \n",
       "3  2019-07-01   252608    2019-07-01                    28            1   \n",
       "4  2019-07-01   145352    2019-07-02                     7            1   \n",
       "\n",
       "   TRANSITION_PAGE_OPENS  BOOKING_FORM_OPENS  BOOKINGS  \n",
       "0                      1                   0         0  \n",
       "1                      4                   1         0  \n",
       "2                      2                   0         0  \n",
       "3                      0                   0         0  \n",
       "4                      0                   0         0  "
      ]
     },
     "execution_count": 11,
     "metadata": {},
     "output_type": "execute_result"
    }
   ],
   "source": [
    "#sorting the dataframe in  ascending order on the basis of \n",
    "\n",
    "df= df.sort_values(by=\"SEARCH_DATE\")\n",
    "df= df.reset_index(drop=True)\n",
    "df.head()"
   ]
  },
  {
   "cell_type": "code",
   "execution_count": 12,
   "id": "amateur-millennium",
   "metadata": {},
   "outputs": [
    {
     "data": {
      "text/plain": [
       "array(['2019-07-01T00:00:00.000000000', '2019-07-02T00:00:00.000000000',\n",
       "       '2019-07-03T00:00:00.000000000', '2019-07-04T00:00:00.000000000',\n",
       "       '2019-07-05T00:00:00.000000000'], dtype='datetime64[ns]')"
      ]
     },
     "execution_count": 12,
     "metadata": {},
     "output_type": "execute_result"
    }
   ],
   "source": [
    "#looking for unique date in the dataset \n",
    "\n",
    "df[\"SEARCH_DATE\"].unique()[:5]"
   ]
  },
  {
   "cell_type": "code",
   "execution_count": 13,
   "id": "intermediate-revision",
   "metadata": {},
   "outputs": [
    {
     "data": {
      "text/plain": [
       "77"
      ]
     },
     "execution_count": 13,
     "metadata": {},
     "output_type": "execute_result"
    }
   ],
   "source": [
    "df[\"SEARCH_DATE\"].nunique()"
   ]
  },
  {
   "cell_type": "code",
   "execution_count": 14,
   "id": "massive-authentication",
   "metadata": {},
   "outputs": [
    {
     "data": {
      "text/plain": [
       "array(['2019-07-01T00:00:00.000000000', '2019-07-02T00:00:00.000000000',\n",
       "       '2019-09-20T00:00:00.000000000', '2019-07-03T00:00:00.000000000',\n",
       "       '2019-07-05T00:00:00.000000000'], dtype='datetime64[ns]')"
      ]
     },
     "execution_count": 14,
     "metadata": {},
     "output_type": "execute_result"
    }
   ],
   "source": [
    "df[\"CHECK_IN_DATE\"].unique()[:5]"
   ]
  },
  {
   "cell_type": "code",
   "execution_count": 15,
   "id": "amended-sessions",
   "metadata": {},
   "outputs": [
    {
     "data": {
      "text/plain": [
       "186"
      ]
     },
     "execution_count": 15,
     "metadata": {},
     "output_type": "execute_result"
    }
   ],
   "source": [
    "df[\"CHECK_IN_DATE\"].nunique()"
   ]
  },
  {
   "cell_type": "markdown",
   "id": "isolated-bridges",
   "metadata": {},
   "source": [
    "# general statistics of the data "
   ]
  },
  {
   "cell_type": "code",
   "execution_count": 16,
   "id": "violent-spotlight",
   "metadata": {},
   "outputs": [
    {
     "data": {
      "text/html": [
       "<div>\n",
       "<style scoped>\n",
       "    .dataframe tbody tr th:only-of-type {\n",
       "        vertical-align: middle;\n",
       "    }\n",
       "\n",
       "    .dataframe tbody tr th {\n",
       "        vertical-align: top;\n",
       "    }\n",
       "\n",
       "    .dataframe thead th {\n",
       "        text-align: right;\n",
       "    }\n",
       "</style>\n",
       "<table border=\"1\" class=\"dataframe\">\n",
       "  <thead>\n",
       "    <tr style=\"text-align: right;\">\n",
       "      <th></th>\n",
       "      <th>SEARCH_DATE</th>\n",
       "      <th>HOTEL_ID</th>\n",
       "      <th>CHECK_IN_DATE</th>\n",
       "      <th>ELIGIBLE_IMPRESSIONS</th>\n",
       "      <th>IMPRESSIONS</th>\n",
       "      <th>TRANSITION_PAGE_OPENS</th>\n",
       "      <th>BOOKING_FORM_OPENS</th>\n",
       "      <th>BOOKINGS</th>\n",
       "    </tr>\n",
       "  </thead>\n",
       "  <tbody>\n",
       "    <tr>\n",
       "      <th>count</th>\n",
       "      <td>74582</td>\n",
       "      <td>74582.0</td>\n",
       "      <td>74582</td>\n",
       "      <td>74582.00</td>\n",
       "      <td>74582.00</td>\n",
       "      <td>74582.00</td>\n",
       "      <td>74582.00</td>\n",
       "      <td>74582.00</td>\n",
       "    </tr>\n",
       "    <tr>\n",
       "      <th>unique</th>\n",
       "      <td>77</td>\n",
       "      <td>19149.0</td>\n",
       "      <td>186</td>\n",
       "      <td>NaN</td>\n",
       "      <td>NaN</td>\n",
       "      <td>NaN</td>\n",
       "      <td>NaN</td>\n",
       "      <td>NaN</td>\n",
       "    </tr>\n",
       "    <tr>\n",
       "      <th>top</th>\n",
       "      <td>2019-08-31 00:00:00</td>\n",
       "      <td>139402.0</td>\n",
       "      <td>2019-08-31 00:00:00</td>\n",
       "      <td>NaN</td>\n",
       "      <td>NaN</td>\n",
       "      <td>NaN</td>\n",
       "      <td>NaN</td>\n",
       "      <td>NaN</td>\n",
       "    </tr>\n",
       "    <tr>\n",
       "      <th>freq</th>\n",
       "      <td>1528</td>\n",
       "      <td>295.0</td>\n",
       "      <td>2155</td>\n",
       "      <td>NaN</td>\n",
       "      <td>NaN</td>\n",
       "      <td>NaN</td>\n",
       "      <td>NaN</td>\n",
       "      <td>NaN</td>\n",
       "    </tr>\n",
       "    <tr>\n",
       "      <th>first</th>\n",
       "      <td>2019-07-01 00:00:00</td>\n",
       "      <td>NaN</td>\n",
       "      <td>2019-07-01 00:00:00</td>\n",
       "      <td>NaN</td>\n",
       "      <td>NaN</td>\n",
       "      <td>NaN</td>\n",
       "      <td>NaN</td>\n",
       "      <td>NaN</td>\n",
       "    </tr>\n",
       "    <tr>\n",
       "      <th>last</th>\n",
       "      <td>2019-09-15 00:00:00</td>\n",
       "      <td>NaN</td>\n",
       "      <td>2020-01-14 00:00:00</td>\n",
       "      <td>NaN</td>\n",
       "      <td>NaN</td>\n",
       "      <td>NaN</td>\n",
       "      <td>NaN</td>\n",
       "      <td>NaN</td>\n",
       "    </tr>\n",
       "    <tr>\n",
       "      <th>mean</th>\n",
       "      <td>NaN</td>\n",
       "      <td>NaN</td>\n",
       "      <td>NaN</td>\n",
       "      <td>53.98</td>\n",
       "      <td>11.12</td>\n",
       "      <td>2.48</td>\n",
       "      <td>0.22</td>\n",
       "      <td>0.00</td>\n",
       "    </tr>\n",
       "    <tr>\n",
       "      <th>std</th>\n",
       "      <td>NaN</td>\n",
       "      <td>NaN</td>\n",
       "      <td>NaN</td>\n",
       "      <td>134.73</td>\n",
       "      <td>29.39</td>\n",
       "      <td>6.67</td>\n",
       "      <td>0.95</td>\n",
       "      <td>0.05</td>\n",
       "    </tr>\n",
       "    <tr>\n",
       "      <th>min</th>\n",
       "      <td>NaN</td>\n",
       "      <td>NaN</td>\n",
       "      <td>NaN</td>\n",
       "      <td>0.00</td>\n",
       "      <td>0.00</td>\n",
       "      <td>0.00</td>\n",
       "      <td>0.00</td>\n",
       "      <td>0.00</td>\n",
       "    </tr>\n",
       "    <tr>\n",
       "      <th>25%</th>\n",
       "      <td>NaN</td>\n",
       "      <td>NaN</td>\n",
       "      <td>NaN</td>\n",
       "      <td>7.00</td>\n",
       "      <td>2.00</td>\n",
       "      <td>0.00</td>\n",
       "      <td>0.00</td>\n",
       "      <td>0.00</td>\n",
       "    </tr>\n",
       "    <tr>\n",
       "      <th>50%</th>\n",
       "      <td>NaN</td>\n",
       "      <td>NaN</td>\n",
       "      <td>NaN</td>\n",
       "      <td>23.00</td>\n",
       "      <td>5.00</td>\n",
       "      <td>1.00</td>\n",
       "      <td>0.00</td>\n",
       "      <td>0.00</td>\n",
       "    </tr>\n",
       "    <tr>\n",
       "      <th>75%</th>\n",
       "      <td>NaN</td>\n",
       "      <td>NaN</td>\n",
       "      <td>NaN</td>\n",
       "      <td>54.00</td>\n",
       "      <td>10.00</td>\n",
       "      <td>2.00</td>\n",
       "      <td>0.00</td>\n",
       "      <td>0.00</td>\n",
       "    </tr>\n",
       "    <tr>\n",
       "      <th>max</th>\n",
       "      <td>NaN</td>\n",
       "      <td>NaN</td>\n",
       "      <td>NaN</td>\n",
       "      <td>4066.00</td>\n",
       "      <td>1715.00</td>\n",
       "      <td>464.00</td>\n",
       "      <td>83.00</td>\n",
       "      <td>8.00</td>\n",
       "    </tr>\n",
       "  </tbody>\n",
       "</table>\n",
       "</div>"
      ],
      "text/plain": [
       "                SEARCH_DATE  HOTEL_ID        CHECK_IN_DATE  \\\n",
       "count                 74582   74582.0                74582   \n",
       "unique                   77   19149.0                  186   \n",
       "top     2019-08-31 00:00:00  139402.0  2019-08-31 00:00:00   \n",
       "freq                   1528     295.0                 2155   \n",
       "first   2019-07-01 00:00:00       NaN  2019-07-01 00:00:00   \n",
       "last    2019-09-15 00:00:00       NaN  2020-01-14 00:00:00   \n",
       "mean                    NaN       NaN                  NaN   \n",
       "std                     NaN       NaN                  NaN   \n",
       "min                     NaN       NaN                  NaN   \n",
       "25%                     NaN       NaN                  NaN   \n",
       "50%                     NaN       NaN                  NaN   \n",
       "75%                     NaN       NaN                  NaN   \n",
       "max                     NaN       NaN                  NaN   \n",
       "\n",
       "        ELIGIBLE_IMPRESSIONS  IMPRESSIONS  TRANSITION_PAGE_OPENS  \\\n",
       "count               74582.00     74582.00               74582.00   \n",
       "unique                   NaN          NaN                    NaN   \n",
       "top                      NaN          NaN                    NaN   \n",
       "freq                     NaN          NaN                    NaN   \n",
       "first                    NaN          NaN                    NaN   \n",
       "last                     NaN          NaN                    NaN   \n",
       "mean                   53.98        11.12                   2.48   \n",
       "std                   134.73        29.39                   6.67   \n",
       "min                     0.00         0.00                   0.00   \n",
       "25%                     7.00         2.00                   0.00   \n",
       "50%                    23.00         5.00                   1.00   \n",
       "75%                    54.00        10.00                   2.00   \n",
       "max                  4066.00      1715.00                 464.00   \n",
       "\n",
       "        BOOKING_FORM_OPENS  BOOKINGS  \n",
       "count             74582.00  74582.00  \n",
       "unique                 NaN       NaN  \n",
       "top                    NaN       NaN  \n",
       "freq                   NaN       NaN  \n",
       "first                  NaN       NaN  \n",
       "last                   NaN       NaN  \n",
       "mean                  0.22      0.00  \n",
       "std                   0.95      0.05  \n",
       "min                   0.00      0.00  \n",
       "25%                   0.00      0.00  \n",
       "50%                   0.00      0.00  \n",
       "75%                   0.00      0.00  \n",
       "max                  83.00      8.00  "
      ]
     },
     "execution_count": 16,
     "metadata": {},
     "output_type": "execute_result"
    }
   ],
   "source": [
    "# general statistics for the data \n",
    "\n",
    "df.describe(include = \"all\").round(2)\n"
   ]
  },
  {
   "cell_type": "code",
   "execution_count": null,
   "id": "norwegian-compression",
   "metadata": {},
   "outputs": [],
   "source": [
    "# #Impressions :--->>>\n",
    "\n",
    "# 1.so from general statistics we have seen that date range is from july 2019 to september 2019 for \n",
    "# search _date  also as mentioned in the question \n",
    "\n",
    "# search_date column : ==\n",
    "# min_date of search_date column = 2019-07-01 00:00:00\n",
    "# max_date of search_date column = 2019-09-15 00:00:00\n",
    "# unique dates count in search_date column = 77\n",
    "# most number of searched occur on date = 2019-08-31 00:00:00 and frequency = 1528\n",
    "\n",
    "# similary for \"check_in_date\" column= range of date values in the dataset is as given \n",
    "\n",
    "# min_date of check_in_date column = 2019-07-01 00:00:00\t\n",
    "# max_date of check_in_date column = 2020-01-14 00:00:00\n",
    "# unique dates count in check_in_date column = 186\n",
    "\n",
    "# most number of check_in occur on date = 2019-08-31 00:00:00 and frequency = 2155\n",
    "\n",
    "# 2.aslo talking about the hotel_ids :- \n",
    "\n",
    "#   unique hotel_ids count = 19149 \n",
    "#   most number of times booked hotel_id = \"\"139402\"\" and frequence = 295\n",
    "  \n",
    "  \n",
    " \n",
    "# 3.as we have recurrent values in dataset about user related to search_date so talking about other variables \n",
    "#   is not valid at present .\n",
    "#   To get better overview we need to group by the data on search_date to derive further information\n",
    "#   with respect to date wise interpretation \n"
   ]
  },
  {
   "cell_type": "code",
   "execution_count": 17,
   "id": "smaller-operations",
   "metadata": {},
   "outputs": [
    {
     "data": {
      "text/html": [
       "<div>\n",
       "<style scoped>\n",
       "    .dataframe tbody tr th:only-of-type {\n",
       "        vertical-align: middle;\n",
       "    }\n",
       "\n",
       "    .dataframe tbody tr th {\n",
       "        vertical-align: top;\n",
       "    }\n",
       "\n",
       "    .dataframe thead th {\n",
       "        text-align: right;\n",
       "    }\n",
       "</style>\n",
       "<table border=\"1\" class=\"dataframe\">\n",
       "  <thead>\n",
       "    <tr style=\"text-align: right;\">\n",
       "      <th></th>\n",
       "      <th>SEARCH_DATE</th>\n",
       "      <th>HOTEL_ID</th>\n",
       "      <th>CHECK_IN_DATE</th>\n",
       "      <th>ELIGIBLE_IMPRESSIONS</th>\n",
       "      <th>IMPRESSIONS</th>\n",
       "      <th>TRANSITION_PAGE_OPENS</th>\n",
       "      <th>BOOKING_FORM_OPENS</th>\n",
       "      <th>BOOKINGS</th>\n",
       "    </tr>\n",
       "  </thead>\n",
       "  <tbody>\n",
       "    <tr>\n",
       "      <th>58018</th>\n",
       "      <td>2019-08-31</td>\n",
       "      <td>108029</td>\n",
       "      <td>2019-09-02</td>\n",
       "      <td>47</td>\n",
       "      <td>7</td>\n",
       "      <td>2</td>\n",
       "      <td>0</td>\n",
       "      <td>0</td>\n",
       "    </tr>\n",
       "    <tr>\n",
       "      <th>58019</th>\n",
       "      <td>2019-08-31</td>\n",
       "      <td>149730</td>\n",
       "      <td>2019-08-31</td>\n",
       "      <td>45</td>\n",
       "      <td>5</td>\n",
       "      <td>1</td>\n",
       "      <td>0</td>\n",
       "      <td>0</td>\n",
       "    </tr>\n",
       "    <tr>\n",
       "      <th>58020</th>\n",
       "      <td>2019-08-31</td>\n",
       "      <td>148501</td>\n",
       "      <td>2019-09-01</td>\n",
       "      <td>14</td>\n",
       "      <td>3</td>\n",
       "      <td>1</td>\n",
       "      <td>0</td>\n",
       "      <td>0</td>\n",
       "    </tr>\n",
       "    <tr>\n",
       "      <th>58021</th>\n",
       "      <td>2019-08-31</td>\n",
       "      <td>647018</td>\n",
       "      <td>2019-08-31</td>\n",
       "      <td>39</td>\n",
       "      <td>6</td>\n",
       "      <td>2</td>\n",
       "      <td>0</td>\n",
       "      <td>0</td>\n",
       "    </tr>\n",
       "    <tr>\n",
       "      <th>58022</th>\n",
       "      <td>2019-08-31</td>\n",
       "      <td>126453</td>\n",
       "      <td>2019-09-23</td>\n",
       "      <td>3</td>\n",
       "      <td>1</td>\n",
       "      <td>0</td>\n",
       "      <td>0</td>\n",
       "      <td>0</td>\n",
       "    </tr>\n",
       "  </tbody>\n",
       "</table>\n",
       "</div>"
      ],
      "text/plain": [
       "      SEARCH_DATE HOTEL_ID CHECK_IN_DATE  ELIGIBLE_IMPRESSIONS  IMPRESSIONS  \\\n",
       "58018  2019-08-31   108029    2019-09-02                    47            7   \n",
       "58019  2019-08-31   149730    2019-08-31                    45            5   \n",
       "58020  2019-08-31   148501    2019-09-01                    14            3   \n",
       "58021  2019-08-31   647018    2019-08-31                    39            6   \n",
       "58022  2019-08-31   126453    2019-09-23                     3            1   \n",
       "\n",
       "       TRANSITION_PAGE_OPENS  BOOKING_FORM_OPENS  BOOKINGS  \n",
       "58018                      2                   0         0  \n",
       "58019                      1                   0         0  \n",
       "58020                      1                   0         0  \n",
       "58021                      2                   0         0  \n",
       "58022                      0                   0         0  "
      ]
     },
     "execution_count": 17,
     "metadata": {},
     "output_type": "execute_result"
    }
   ],
   "source": [
    "#just a general view to see for the data related to max_search_date \n",
    "df[df[\"SEARCH_DATE\"]==datetime.datetime(2019,8,31)].head()"
   ]
  },
  {
   "cell_type": "code",
   "execution_count": 18,
   "id": "forbidden-fifteen",
   "metadata": {},
   "outputs": [
    {
     "data": {
      "text/plain": [
       "2019-08-31    1528\n",
       "2019-08-30    1433\n",
       "2019-08-16    1352\n",
       "2019-09-01    1327\n",
       "2019-08-17    1309\n",
       "Name: SEARCH_DATE, dtype: int64"
      ]
     },
     "execution_count": 18,
     "metadata": {},
     "output_type": "execute_result"
    }
   ],
   "source": [
    "#each day count of users specific to search_date\n",
    "\n",
    "(df[\"SEARCH_DATE\"].value_counts())[:5]"
   ]
  },
  {
   "cell_type": "code",
   "execution_count": 19,
   "id": "marine-traffic",
   "metadata": {},
   "outputs": [
    {
     "data": {
      "text/plain": [
       "2019-08-31    2.048752\n",
       "2019-08-30    1.921375\n",
       "2019-08-16    1.812770\n",
       "2019-09-01    1.779250\n",
       "2019-08-17    1.755115\n",
       "Name: SEARCH_DATE, dtype: float64"
      ]
     },
     "execution_count": 19,
     "metadata": {},
     "output_type": "execute_result"
    }
   ],
   "source": [
    "(df[\"SEARCH_DATE\"].value_counts(normalize=True)*100)[:5]"
   ]
  },
  {
   "cell_type": "code",
   "execution_count": 20,
   "id": "healthy-retail",
   "metadata": {},
   "outputs": [
    {
     "data": {
      "text/plain": [
       "2019-08-31    2155\n",
       "2019-08-17    1955\n",
       "2019-08-30    1869\n",
       "2019-08-24    1848\n",
       "2019-09-14    1813\n",
       "Name: CHECK_IN_DATE, dtype: int64"
      ]
     },
     "execution_count": 20,
     "metadata": {},
     "output_type": "execute_result"
    }
   ],
   "source": [
    "#each day count of users specific to check_in_date \n",
    "\n",
    "df[\"CHECK_IN_DATE\"].value_counts()[:5]"
   ]
  },
  {
   "cell_type": "code",
   "execution_count": 21,
   "id": "retained-decline",
   "metadata": {},
   "outputs": [
    {
     "data": {
      "text/plain": [
       "2019-08-31    2.889437\n",
       "2019-08-17    2.621276\n",
       "2019-08-30    2.505967\n",
       "2019-08-24    2.477810\n",
       "2019-09-14    2.430881\n",
       "Name: CHECK_IN_DATE, dtype: float64"
      ]
     },
     "execution_count": 21,
     "metadata": {},
     "output_type": "execute_result"
    }
   ],
   "source": [
    "(df[\"CHECK_IN_DATE\"].value_counts(normalize=True)*100)[:5]"
   ]
  },
  {
   "cell_type": "markdown",
   "id": "applicable-flavor",
   "metadata": {},
   "source": [
    "# # Question 1\n",
    "\n",
    "Using the attached data,\n",
    "find 1-2 things about our booking funnel that you think are important to track \n",
    "and then create 5 visualizations that would help you track that metric:\n",
    "\n",
    "What other data sources would you add assuming they were available?\n",
    "Please prepare your presentation for a business audience but be ready to answer technical questions (perhaps in an appendix)."
   ]
  },
  {
   "cell_type": "code",
   "execution_count": null,
   "id": "limiting-chapter",
   "metadata": {},
   "outputs": [],
   "source": [
    "# 1-2 things about our booking funnel that you think are important to track\n",
    "\n",
    "# answer :---->>\n",
    "\n",
    "# 1. daily summary of the data related to booking of searched_date \n",
    "#    ranging from july 2019 to september 2019 .\n",
    "#    the idea is : \n",
    "#    to group the data on search_date and then aggrgating the sum of \n",
    "#    other relevant information to track the daily metrics and \n",
    "#    to get an idea about snaptravels business on daily basis i.e. what's the\n",
    "#    count of total number of booking on an average on a given day \n",
    "   \n",
    "   \n",
    " \n",
    "# 2. we can also track information related to hotel \n",
    "#    ids that on particular date which hotel_id is booked maximum time\n",
    "#    and also we can generate the summary statistics related to each hotel_id\n",
    "#    if required on daily basis i.e on a given \n",
    "#    day whats the chance that people will book that particular\n",
    "#    hotel from snaptravels hotel ads\n",
    "   \n",
    "# 3. we can also check the trend of other numeric information related \n",
    "#    to search date to find out if is there any seasonality \n",
    "#    factor availaible or not like is there any possibility \n",
    "#    like bookings are higher in mid of the month or end of the month or \n",
    "#    so \n",
    "   \n",
    "# 4. checking for outliers is also required and removal\n",
    "#    of outliers is also necessary going further \n",
    "\n",
    "\n",
    "# 5. next we can also use TIME SERIES FORECASTING APPROACH like \n",
    "#    ARIMA OR SARIMA to forecast the booking based on the past \n",
    "#    data availaible "
   ]
  },
  {
   "cell_type": "markdown",
   "id": "alternate-gauge",
   "metadata": {},
   "source": [
    "# group by on search_date to see for the values to comment related to daiy happening"
   ]
  },
  {
   "cell_type": "code",
   "execution_count": 22,
   "id": "varying-entity",
   "metadata": {},
   "outputs": [
    {
     "data": {
      "text/html": [
       "<div>\n",
       "<style scoped>\n",
       "    .dataframe tbody tr th:only-of-type {\n",
       "        vertical-align: middle;\n",
       "    }\n",
       "\n",
       "    .dataframe tbody tr th {\n",
       "        vertical-align: top;\n",
       "    }\n",
       "\n",
       "    .dataframe thead th {\n",
       "        text-align: right;\n",
       "    }\n",
       "</style>\n",
       "<table border=\"1\" class=\"dataframe\">\n",
       "  <thead>\n",
       "    <tr style=\"text-align: right;\">\n",
       "      <th></th>\n",
       "      <th>ELIGIBLE_IMPRESSIONS</th>\n",
       "      <th>IMPRESSIONS</th>\n",
       "      <th>TRANSITION_PAGE_OPENS</th>\n",
       "      <th>BOOKING_FORM_OPENS</th>\n",
       "      <th>BOOKINGS</th>\n",
       "    </tr>\n",
       "    <tr>\n",
       "      <th>SEARCH_DATE</th>\n",
       "      <th></th>\n",
       "      <th></th>\n",
       "      <th></th>\n",
       "      <th></th>\n",
       "      <th></th>\n",
       "    </tr>\n",
       "  </thead>\n",
       "  <tbody>\n",
       "    <tr>\n",
       "      <th>2019-07-01</th>\n",
       "      <td>40792</td>\n",
       "      <td>6446</td>\n",
       "      <td>1423</td>\n",
       "      <td>119</td>\n",
       "      <td>1</td>\n",
       "    </tr>\n",
       "    <tr>\n",
       "      <th>2019-07-02</th>\n",
       "      <td>53443</td>\n",
       "      <td>10318</td>\n",
       "      <td>2308</td>\n",
       "      <td>190</td>\n",
       "      <td>1</td>\n",
       "    </tr>\n",
       "    <tr>\n",
       "      <th>2019-07-03</th>\n",
       "      <td>81992</td>\n",
       "      <td>18516</td>\n",
       "      <td>4105</td>\n",
       "      <td>391</td>\n",
       "      <td>6</td>\n",
       "    </tr>\n",
       "    <tr>\n",
       "      <th>2019-07-04</th>\n",
       "      <td>46390</td>\n",
       "      <td>10567</td>\n",
       "      <td>2319</td>\n",
       "      <td>206</td>\n",
       "      <td>1</td>\n",
       "    </tr>\n",
       "    <tr>\n",
       "      <th>2019-07-05</th>\n",
       "      <td>72573</td>\n",
       "      <td>17200</td>\n",
       "      <td>4033</td>\n",
       "      <td>395</td>\n",
       "      <td>5</td>\n",
       "    </tr>\n",
       "  </tbody>\n",
       "</table>\n",
       "</div>"
      ],
      "text/plain": [
       "             ELIGIBLE_IMPRESSIONS  IMPRESSIONS  TRANSITION_PAGE_OPENS  \\\n",
       "SEARCH_DATE                                                             \n",
       "2019-07-01                  40792         6446                   1423   \n",
       "2019-07-02                  53443        10318                   2308   \n",
       "2019-07-03                  81992        18516                   4105   \n",
       "2019-07-04                  46390        10567                   2319   \n",
       "2019-07-05                  72573        17200                   4033   \n",
       "\n",
       "             BOOKING_FORM_OPENS  BOOKINGS  \n",
       "SEARCH_DATE                                \n",
       "2019-07-01                  119         1  \n",
       "2019-07-02                  190         1  \n",
       "2019-07-03                  391         6  \n",
       "2019-07-04                  206         1  \n",
       "2019-07-05                  395         5  "
      ]
     },
     "execution_count": 22,
     "metadata": {},
     "output_type": "execute_result"
    }
   ],
   "source": [
    "#group by on search_date to see for the values\n",
    "\n",
    "new_df = df.groupby([\"SEARCH_DATE\"]).sum()\n",
    "new_df.head()"
   ]
  },
  {
   "cell_type": "code",
   "execution_count": 23,
   "id": "cheap-berlin",
   "metadata": {},
   "outputs": [
    {
     "data": {
      "text/html": [
       "<div>\n",
       "<style scoped>\n",
       "    .dataframe tbody tr th:only-of-type {\n",
       "        vertical-align: middle;\n",
       "    }\n",
       "\n",
       "    .dataframe tbody tr th {\n",
       "        vertical-align: top;\n",
       "    }\n",
       "\n",
       "    .dataframe thead th {\n",
       "        text-align: right;\n",
       "    }\n",
       "</style>\n",
       "<table border=\"1\" class=\"dataframe\">\n",
       "  <thead>\n",
       "    <tr style=\"text-align: right;\">\n",
       "      <th></th>\n",
       "      <th>ELIGIBLE_IMPRESSIONS</th>\n",
       "      <th>IMPRESSIONS</th>\n",
       "      <th>TRANSITION_PAGE_OPENS</th>\n",
       "      <th>BOOKING_FORM_OPENS</th>\n",
       "      <th>BOOKINGS</th>\n",
       "    </tr>\n",
       "  </thead>\n",
       "  <tbody>\n",
       "    <tr>\n",
       "      <th>count</th>\n",
       "      <td>77.000000</td>\n",
       "      <td>77.000000</td>\n",
       "      <td>77.000000</td>\n",
       "      <td>77.000000</td>\n",
       "      <td>77.000000</td>\n",
       "    </tr>\n",
       "    <tr>\n",
       "      <th>mean</th>\n",
       "      <td>52289.090909</td>\n",
       "      <td>10766.792208</td>\n",
       "      <td>2403.636364</td>\n",
       "      <td>213.532468</td>\n",
       "      <td>1.558442</td>\n",
       "    </tr>\n",
       "    <tr>\n",
       "      <th>std</th>\n",
       "      <td>20290.617438</td>\n",
       "      <td>5790.215641</td>\n",
       "      <td>1319.714043</td>\n",
       "      <td>153.515264</td>\n",
       "      <td>2.812068</td>\n",
       "    </tr>\n",
       "    <tr>\n",
       "      <th>min</th>\n",
       "      <td>22905.000000</td>\n",
       "      <td>4522.000000</td>\n",
       "      <td>958.000000</td>\n",
       "      <td>61.000000</td>\n",
       "      <td>0.000000</td>\n",
       "    </tr>\n",
       "    <tr>\n",
       "      <th>25%</th>\n",
       "      <td>37742.000000</td>\n",
       "      <td>6843.000000</td>\n",
       "      <td>1502.000000</td>\n",
       "      <td>118.000000</td>\n",
       "      <td>0.000000</td>\n",
       "    </tr>\n",
       "    <tr>\n",
       "      <th>50%</th>\n",
       "      <td>47253.000000</td>\n",
       "      <td>8813.000000</td>\n",
       "      <td>1944.000000</td>\n",
       "      <td>160.000000</td>\n",
       "      <td>1.000000</td>\n",
       "    </tr>\n",
       "    <tr>\n",
       "      <th>75%</th>\n",
       "      <td>62295.000000</td>\n",
       "      <td>13726.000000</td>\n",
       "      <td>3096.000000</td>\n",
       "      <td>281.000000</td>\n",
       "      <td>2.000000</td>\n",
       "    </tr>\n",
       "    <tr>\n",
       "      <th>max</th>\n",
       "      <td>117948.000000</td>\n",
       "      <td>39833.000000</td>\n",
       "      <td>9129.000000</td>\n",
       "      <td>1058.000000</td>\n",
       "      <td>19.000000</td>\n",
       "    </tr>\n",
       "  </tbody>\n",
       "</table>\n",
       "</div>"
      ],
      "text/plain": [
       "       ELIGIBLE_IMPRESSIONS   IMPRESSIONS  TRANSITION_PAGE_OPENS  \\\n",
       "count             77.000000     77.000000              77.000000   \n",
       "mean           52289.090909  10766.792208            2403.636364   \n",
       "std            20290.617438   5790.215641            1319.714043   \n",
       "min            22905.000000   4522.000000             958.000000   \n",
       "25%            37742.000000   6843.000000            1502.000000   \n",
       "50%            47253.000000   8813.000000            1944.000000   \n",
       "75%            62295.000000  13726.000000            3096.000000   \n",
       "max           117948.000000  39833.000000            9129.000000   \n",
       "\n",
       "       BOOKING_FORM_OPENS   BOOKINGS  \n",
       "count           77.000000  77.000000  \n",
       "mean           213.532468   1.558442  \n",
       "std            153.515264   2.812068  \n",
       "min             61.000000   0.000000  \n",
       "25%            118.000000   0.000000  \n",
       "50%            160.000000   1.000000  \n",
       "75%            281.000000   2.000000  \n",
       "max           1058.000000  19.000000  "
      ]
     },
     "execution_count": 23,
     "metadata": {},
     "output_type": "execute_result"
    }
   ],
   "source": [
    "#decibring the information related to each search_date \n",
    "\n",
    "new_df.describe()\n",
    "\n",
    "\n"
   ]
  },
  {
   "cell_type": "code",
   "execution_count": null,
   "id": "floral-hydrogen",
   "metadata": {},
   "outputs": [],
   "source": [
    "#impression on each_day_search data :>>>>>>>>>>\n",
    "\n",
    "# 1.mean value for eligible impression per day is around 52289\n",
    "\n",
    "# 2.max value for eligible impression per day is around 1lakh\n",
    "\n",
    "# 3.talking about impressions variable :- we have mean value of \n",
    "#   around 10766 (10.5k) on daily basis for snaptravel\n",
    "\n",
    "# 4.maximum impression value on a particular day is around 39k \n",
    "#   and minimum impression on given day is around 4522\n",
    "\n",
    "# 5.talking about transition pages :->> on an average in a \n",
    "#   day  2k times transition page is opened .\n",
    "\n",
    "# 6.maximum value on a single day for transition_page_open is \n",
    "#   around 9k and minimum value is around 958\n",
    "\n",
    "# 7. taking about booking form :>> \n",
    "#   on an average booking form opens up around 200 times in a given day\n",
    "\n",
    "# 8. maximum number of times booking form open on a given day \n",
    "#    is 1058 times and minimum is 61\n",
    "\n",
    "# 9.while talking about bookings on an average 1.5 means \n",
    "#   around 2 people compelte the booking using snaptravel on daily basis\n",
    "\n",
    "# 10 maximum count of  completed booking has occured on a given day \n",
    "#   is 19 and minimum is 0 it means there are days when there is\n",
    "#   no booking done from snaptrevels service\n",
    "\n"
   ]
  },
  {
   "cell_type": "code",
   "execution_count": 24,
   "id": "ongoing-perry",
   "metadata": {},
   "outputs": [
    {
     "data": {
      "text/plain": [
       "ELIGIBLE_IMPRESSIONS     1.185322\n",
       "IMPRESSIONS              2.212769\n",
       "TRANSITION_PAGE_OPENS    2.260616\n",
       "BOOKING_FORM_OPENS       2.680979\n",
       "BOOKINGS                 3.882307\n",
       "dtype: float64"
      ]
     },
     "execution_count": 24,
     "metadata": {},
     "output_type": "execute_result"
    },
    {
     "data": {
      "text/plain": [
       "<Figure size 1080x1080 with 0 Axes>"
      ]
     },
     "metadata": {},
     "output_type": "display_data"
    },
    {
     "data": {
      "image/png": "[encoded data removed]",
      "text/plain": [
       "<Figure size 432x288 with 6 Axes>"
      ]
     },
     "metadata": {
      "needs_background": "light"
     },
     "output_type": "display_data"
    }
   ],
   "source": [
    "#plotting the histogram for the numeric data \n",
    "\n",
    "plt.figure(figsize=(15,15))\n",
    "new_df.hist()\n",
    "plt.tight_layout()\n",
    "new_df.skew()\n",
    "\n",
    "#the data is not distributed normally \n",
    "#there seems to be +ve skewness is all variables \n",
    "#which means there are outliers which can affect the mean values "
   ]
  },
  {
   "cell_type": "code",
   "execution_count": 25,
   "id": "innocent-tyler",
   "metadata": {},
   "outputs": [
    {
     "data": {
      "text/plain": [
       "<AxesSubplot:>"
      ]
     },
     "execution_count": 25,
     "metadata": {},
     "output_type": "execute_result"
    },
    {
     "data": {
      "image/png": "[encoded data removed]",
      "text/plain": [
       "<Figure size 1296x720 with 1 Axes>"
      ]
     },
     "metadata": {
      "needs_background": "light"
     },
     "output_type": "display_data"
    }
   ],
   "source": [
    "#visualizing the boxplot\n",
    "plt.figure(figsize=(18,10))\n",
    "new_df.boxplot()\n",
    "\n",
    "#plotting the boxplot to look for the outliers in the dataset"
   ]
  },
  {
   "cell_type": "code",
   "execution_count": 26,
   "id": "miniature-election",
   "metadata": {},
   "outputs": [
    {
     "data": {
      "image/png": "[encoded data removed]",
      "text/plain": [
       "<Figure size 720x1296 with 5 Axes>"
      ]
     },
     "metadata": {
      "needs_background": "light"
     },
     "output_type": "display_data"
    }
   ],
   "source": [
    "#visualization related to search_date and booking form_opens \n",
    "\n",
    "\n",
    "\n",
    "fig,ax = plt.subplots(5,1,figsize=(10,18))\n",
    "\n",
    "for var,subplot in zip(new_df.columns,ax.flatten()):\n",
    "   \n",
    "    sns.lineplot(new_df.index,new_df[var], ax=subplot)\n",
    "    plt.tight_layout(pad=0.05)\n",
    "\n",
    "#so from the plot we can see that "
   ]
  },
  {
   "cell_type": "code",
   "execution_count": 27,
   "id": "textile-glossary",
   "metadata": {},
   "outputs": [
    {
     "data": {
      "text/plain": [
       "<seaborn.axisgrid.PairGrid at 0x12959970>"
      ]
     },
     "execution_count": 27,
     "metadata": {},
     "output_type": "execute_result"
    },
    {
     "data": {
      "image/png": "[encoded data removed]",
      "text/plain": [
       "<Figure size 900x900 with 30 Axes>"
      ]
     },
     "metadata": {
      "needs_background": "light"
     },
     "output_type": "display_data"
    }
   ],
   "source": [
    "#to see the variables performance \n",
    "\n",
    "sns.pairplot(new_df)"
   ]
  },
  {
   "cell_type": "code",
   "execution_count": 28,
   "id": "pressing-surveillance",
   "metadata": {},
   "outputs": [
    {
     "data": {
      "text/plain": [
       "<AxesSubplot:>"
      ]
     },
     "execution_count": 28,
     "metadata": {},
     "output_type": "execute_result"
    },
    {
     "data": {
      "image/png": "[encoded data removed]",
      "text/plain": [
       "<Figure size 432x288 with 2 Axes>"
      ]
     },
     "metadata": {
      "needs_background": "light"
     },
     "output_type": "display_data"
    }
   ],
   "source": [
    "#plotting the correlation heatmap for tracking the correlation on daily search data related\n",
    "#to snaptravel \n",
    "\n",
    "sns.heatmap(new_df.corr(),annot=True)\n",
    "\n",
    "\n",
    "#so from the heatmap it is clearly visible that on daily basis \n",
    "#no of complete booking is directly dependent on all the other numeric variables \n",
    "# and also we can think about it practically also as more number of impression will generate which can lead to \n",
    "#more number of people tracking the add and clicking or opening the transition page and booking form to complete the booking\n"
   ]
  },
  {
   "cell_type": "code",
   "execution_count": 31,
   "id": "coated-florence",
   "metadata": {},
   "outputs": [
    {
     "data": {
      "text/html": [
       "<div>\n",
       "<style scoped>\n",
       "    .dataframe tbody tr th:only-of-type {\n",
       "        vertical-align: middle;\n",
       "    }\n",
       "\n",
       "    .dataframe tbody tr th {\n",
       "        vertical-align: top;\n",
       "    }\n",
       "\n",
       "    .dataframe thead th {\n",
       "        text-align: right;\n",
       "    }\n",
       "</style>\n",
       "<table border=\"1\" class=\"dataframe\">\n",
       "  <thead>\n",
       "    <tr style=\"text-align: right;\">\n",
       "      <th></th>\n",
       "      <th></th>\n",
       "      <th>ELIGIBLE_IMPRESSIONS</th>\n",
       "      <th>IMPRESSIONS</th>\n",
       "      <th>TRANSITION_PAGE_OPENS</th>\n",
       "      <th>BOOKING_FORM_OPENS</th>\n",
       "      <th>BOOKINGS</th>\n",
       "    </tr>\n",
       "    <tr>\n",
       "      <th>SEARCH_DATE</th>\n",
       "      <th>HOTEL_ID</th>\n",
       "      <th></th>\n",
       "      <th></th>\n",
       "      <th></th>\n",
       "      <th></th>\n",
       "      <th></th>\n",
       "    </tr>\n",
       "  </thead>\n",
       "  <tbody>\n",
       "    <tr>\n",
       "      <th rowspan=\"5\" valign=\"top\">2019-07-01</th>\n",
       "      <th>4110</th>\n",
       "      <td>0</td>\n",
       "      <td>0</td>\n",
       "      <td>0</td>\n",
       "      <td>0</td>\n",
       "      <td>0</td>\n",
       "    </tr>\n",
       "    <tr>\n",
       "      <th>6295</th>\n",
       "      <td>0</td>\n",
       "      <td>0</td>\n",
       "      <td>0</td>\n",
       "      <td>0</td>\n",
       "      <td>0</td>\n",
       "    </tr>\n",
       "    <tr>\n",
       "      <th>8957</th>\n",
       "      <td>73</td>\n",
       "      <td>28</td>\n",
       "      <td>6</td>\n",
       "      <td>0</td>\n",
       "      <td>0</td>\n",
       "    </tr>\n",
       "    <tr>\n",
       "      <th>21227</th>\n",
       "      <td>0</td>\n",
       "      <td>0</td>\n",
       "      <td>0</td>\n",
       "      <td>0</td>\n",
       "      <td>0</td>\n",
       "    </tr>\n",
       "    <tr>\n",
       "      <th>105302</th>\n",
       "      <td>0</td>\n",
       "      <td>0</td>\n",
       "      <td>0</td>\n",
       "      <td>0</td>\n",
       "      <td>0</td>\n",
       "    </tr>\n",
       "  </tbody>\n",
       "</table>\n",
       "</div>"
      ],
      "text/plain": [
       "                      ELIGIBLE_IMPRESSIONS  IMPRESSIONS  \\\n",
       "SEARCH_DATE HOTEL_ID                                      \n",
       "2019-07-01  4110                         0            0   \n",
       "            6295                         0            0   \n",
       "            8957                        73           28   \n",
       "            21227                        0            0   \n",
       "            105302                       0            0   \n",
       "\n",
       "                      TRANSITION_PAGE_OPENS  BOOKING_FORM_OPENS  BOOKINGS  \n",
       "SEARCH_DATE HOTEL_ID                                                       \n",
       "2019-07-01  4110                          0                   0         0  \n",
       "            6295                          0                   0         0  \n",
       "            8957                          6                   0         0  \n",
       "            21227                         0                   0         0  \n",
       "            105302                        0                   0         0  "
      ]
     },
     "execution_count": 31,
     "metadata": {},
     "output_type": "execute_result"
    }
   ],
   "source": [
    "# we can also check about which hotel_id is booked for maximum time on give day \n",
    "\n",
    "df.groupby([\"SEARCH_DATE\",\"HOTEL_ID\"]).sum().head()"
   ]
  },
  {
   "cell_type": "code",
   "execution_count": null,
   "id": "detailed-medicaid",
   "metadata": {},
   "outputs": [],
   "source": [
    "# #intepretation >>-----\n",
    "\n",
    "# from the above data and created eda there are many things and matrices to explore related to\n",
    "\n",
    "# 1. daily search_date we have found out when there are maximum_impressions and bookings \n",
    "#    i.e what is the trend on daily basis related to booking on snaptravel\n",
    "    \n",
    "# 2. we also created summary by aggregating the data on search_date and then finding out about\n",
    "#    mean score related to booking on daily basis \n",
    "   \n",
    "# 3. we also searched and looked for maximum and minimum booking \n",
    "\n",
    "# 4. we also had seen the graphs and plot related to finding out the correlation between the\n",
    "#    variables and we found out that booking is directly correlated with the other variables \n",
    "#    such as imressions,booking_form_opens\n",
    "   \n",
    "  \n",
    "\n",
    " \n",
    "#  5. next we can also generate the percentage impression and percentage_booking_funnel :-> \n",
    "#   perc_impression_funnel :-- ((impression/eligible impression)*100) and \n",
    "#   percentage booking funnel :--- ((booking/booking_form_opens)*100) \n",
    "#    can also be calculated to get better idea \n",
    "\n",
    "\n",
    "# What other data sources would you add assuming they were available? \n",
    "\n",
    "# answer :-->>\n",
    "\n",
    "# 1. as there is only information related to hotel_id if data related to mapping of hotel_id to \n",
    "#    name of the hotel and other information related to hotels like ratings by people,\n",
    "#    location etc would givem nice indepth idea about choosing particular hotel by people \n",
    "#    and may be we could prepare a good recommendation and ads regarding to that particular hotel.\n",
    "   \n",
    "# 2. also we can generate more information using pivot table by combining and creating multiindex dataframes\n",
    "\n",
    "\n",
    "# 3. we can generate impression share i.e. it is the percentage of impressions that our ads \n",
    "#    receive compared to the total number of impressions that our ads could get. \n",
    "#     Impression share = impressions / total eligible impressions.\n"
   ]
  },
  {
   "cell_type": "code",
   "execution_count": 32,
   "id": "subsequent-valuable",
   "metadata": {},
   "outputs": [
    {
     "data": {
      "text/html": [
       "<div>\n",
       "<style scoped>\n",
       "    .dataframe tbody tr th:only-of-type {\n",
       "        vertical-align: middle;\n",
       "    }\n",
       "\n",
       "    .dataframe tbody tr th {\n",
       "        vertical-align: top;\n",
       "    }\n",
       "\n",
       "    .dataframe thead th {\n",
       "        text-align: right;\n",
       "    }\n",
       "</style>\n",
       "<table border=\"1\" class=\"dataframe\">\n",
       "  <thead>\n",
       "    <tr style=\"text-align: right;\">\n",
       "      <th></th>\n",
       "      <th>ELIGIBLE_IMPRESSIONS</th>\n",
       "      <th>IMPRESSIONS</th>\n",
       "      <th>TRANSITION_PAGE_OPENS</th>\n",
       "      <th>BOOKING_FORM_OPENS</th>\n",
       "      <th>BOOKINGS</th>\n",
       "      <th>Impression_share</th>\n",
       "    </tr>\n",
       "    <tr>\n",
       "      <th>SEARCH_DATE</th>\n",
       "      <th></th>\n",
       "      <th></th>\n",
       "      <th></th>\n",
       "      <th></th>\n",
       "      <th></th>\n",
       "      <th></th>\n",
       "    </tr>\n",
       "  </thead>\n",
       "  <tbody>\n",
       "    <tr>\n",
       "      <th>2019-07-01</th>\n",
       "      <td>40792</td>\n",
       "      <td>6446</td>\n",
       "      <td>1423</td>\n",
       "      <td>119</td>\n",
       "      <td>1</td>\n",
       "      <td>15.802118</td>\n",
       "    </tr>\n",
       "    <tr>\n",
       "      <th>2019-07-02</th>\n",
       "      <td>53443</td>\n",
       "      <td>10318</td>\n",
       "      <td>2308</td>\n",
       "      <td>190</td>\n",
       "      <td>1</td>\n",
       "      <td>19.306551</td>\n",
       "    </tr>\n",
       "    <tr>\n",
       "      <th>2019-07-03</th>\n",
       "      <td>81992</td>\n",
       "      <td>18516</td>\n",
       "      <td>4105</td>\n",
       "      <td>391</td>\n",
       "      <td>6</td>\n",
       "      <td>22.582691</td>\n",
       "    </tr>\n",
       "    <tr>\n",
       "      <th>2019-07-04</th>\n",
       "      <td>46390</td>\n",
       "      <td>10567</td>\n",
       "      <td>2319</td>\n",
       "      <td>206</td>\n",
       "      <td>1</td>\n",
       "      <td>22.778616</td>\n",
       "    </tr>\n",
       "    <tr>\n",
       "      <th>2019-07-05</th>\n",
       "      <td>72573</td>\n",
       "      <td>17200</td>\n",
       "      <td>4033</td>\n",
       "      <td>395</td>\n",
       "      <td>5</td>\n",
       "      <td>23.700274</td>\n",
       "    </tr>\n",
       "  </tbody>\n",
       "</table>\n",
       "</div>"
      ],
      "text/plain": [
       "             ELIGIBLE_IMPRESSIONS  IMPRESSIONS  TRANSITION_PAGE_OPENS  \\\n",
       "SEARCH_DATE                                                             \n",
       "2019-07-01                  40792         6446                   1423   \n",
       "2019-07-02                  53443        10318                   2308   \n",
       "2019-07-03                  81992        18516                   4105   \n",
       "2019-07-04                  46390        10567                   2319   \n",
       "2019-07-05                  72573        17200                   4033   \n",
       "\n",
       "             BOOKING_FORM_OPENS  BOOKINGS  Impression_share  \n",
       "SEARCH_DATE                                                  \n",
       "2019-07-01                  119         1         15.802118  \n",
       "2019-07-02                  190         1         19.306551  \n",
       "2019-07-03                  391         6         22.582691  \n",
       "2019-07-04                  206         1         22.778616  \n",
       "2019-07-05                  395         5         23.700274  "
      ]
     },
     "execution_count": 32,
     "metadata": {},
     "output_type": "execute_result"
    }
   ],
   "source": [
    "\n",
    "#new column is added as impression share \n",
    "new_df[\"Impression_share\"] = (new_df[\"IMPRESSIONS\"]/new_df[\"ELIGIBLE_IMPRESSIONS\"])*100\n",
    "new_df.head()"
   ]
  },
  {
   "cell_type": "code",
   "execution_count": 36,
   "id": "worse-partnership",
   "metadata": {},
   "outputs": [
    {
     "data": {
      "text/html": [
       "<div>\n",
       "<style scoped>\n",
       "    .dataframe tbody tr th:only-of-type {\n",
       "        vertical-align: middle;\n",
       "    }\n",
       "\n",
       "    .dataframe tbody tr th {\n",
       "        vertical-align: top;\n",
       "    }\n",
       "\n",
       "    .dataframe thead th {\n",
       "        text-align: right;\n",
       "    }\n",
       "</style>\n",
       "<table border=\"1\" class=\"dataframe\">\n",
       "  <thead>\n",
       "    <tr style=\"text-align: right;\">\n",
       "      <th></th>\n",
       "      <th>ELIGIBLE_IMPRESSIONS</th>\n",
       "      <th>IMPRESSIONS</th>\n",
       "      <th>TRANSITION_PAGE_OPENS</th>\n",
       "      <th>BOOKING_FORM_OPENS</th>\n",
       "      <th>BOOKINGS</th>\n",
       "      <th>Impression_share</th>\n",
       "    </tr>\n",
       "    <tr>\n",
       "      <th>SEARCH_DATE</th>\n",
       "      <th></th>\n",
       "      <th></th>\n",
       "      <th></th>\n",
       "      <th></th>\n",
       "      <th></th>\n",
       "      <th></th>\n",
       "    </tr>\n",
       "  </thead>\n",
       "  <tbody>\n",
       "    <tr>\n",
       "      <th>2019-08-31</th>\n",
       "      <td>117557</td>\n",
       "      <td>39833</td>\n",
       "      <td>9129</td>\n",
       "      <td>1058</td>\n",
       "      <td>19</td>\n",
       "      <td>33.883988</td>\n",
       "    </tr>\n",
       "  </tbody>\n",
       "</table>\n",
       "</div>"
      ],
      "text/plain": [
       "             ELIGIBLE_IMPRESSIONS  IMPRESSIONS  TRANSITION_PAGE_OPENS  \\\n",
       "SEARCH_DATE                                                             \n",
       "2019-08-31                 117557        39833                   9129   \n",
       "\n",
       "             BOOKING_FORM_OPENS  BOOKINGS  Impression_share  \n",
       "SEARCH_DATE                                                  \n",
       "2019-08-31                 1058        19         33.883988  "
      ]
     },
     "execution_count": 36,
     "metadata": {},
     "output_type": "execute_result"
    }
   ],
   "source": [
    "#maximum impression share was on august 31,2019\n",
    "\n",
    "new_df[new_df[\"Impression_share\"]==new_df[\"Impression_share\"].max()]"
   ]
  },
  {
   "cell_type": "markdown",
   "id": "dated-shore",
   "metadata": {},
   "source": [
    "# next we can also use TIME SERIES FORECASTING\n",
    "\n",
    "# APPROACH like ARIMA OR SARIMA \n",
    "# to forecast the booking based on the \n",
    "# past booking data availaible for snaptravel website"
   ]
  },
  {
   "cell_type": "markdown",
   "id": "finished-israel",
   "metadata": {},
   "source": [
    "# Question 2 \n",
    "\n",
    "If you were tasked with expanding the snaptravel business into a new area of the world,\n",
    "\n",
    "how would you approach that problem? \n",
    "\n",
    "What data would you need? Who would you involve? Provide a brief description of your process \n",
    "\n",
    "\n",
    "(300 words or less)."
   ]
  },
  {
   "cell_type": "code",
   "execution_count": null,
   "id": "criminal-hebrew",
   "metadata": {},
   "outputs": [],
   "source": [
    "#to expand the snaptravel business into new area of the world we \n",
    "#have to look and expand our hotels list and campaigns with respect\n",
    "#to hotels accross the various countries and we need to create\n",
    "#ads campaigns in most relevant way that our companies ads should\n",
    "#get the maximum impressions.\n",
    "\n",
    "#also we need to make the interface and booking process\n",
    "#easy and fast it means the new user should easily\n",
    "#walkthough the website and can book the hotel without\n",
    "#problem .\n",
    "\n",
    "#a good customer support team should also be there to help\n",
    "#the customers in resolving the queries in fast way\n",
    "\n",
    "#a good discounted and prominent pricing strategy needs to be \n",
    "#followed to attract the customers \n",
    "\n",
    "#the data related to country ,hotel_ids,impression share \n",
    "#can give us idea about which country to choose \n",
    "#by seeing the country-wise impression share and also\n",
    "#where we are getting less eligible impression and relatively\n",
    "#our impression share is good\n",
    "\n",
    "#a good recommendation system is also a key factor\n",
    "#for any business i.e showing the audience most \n",
    "#appropriate option to choose from when they \n",
    "#are visiting our website.The best example is \n",
    "#netflix who has increased their profits to \n",
    "#much more by making a good and perosnalized recommendation\n",
    "#system for the audience .\n",
    "\n",
    "#we can track the performance of our ads and can decide on various things \n",
    "#to improve our business and earnings "
   ]
  }
 ],
 "metadata": {
  "kernelspec": {
   "display_name": "Python 3",
   "language": "python",
   "name": "python3"
  },
  "language_info": {
   "codemirror_mode": {
    "name": "ipython",
    "version": 3
   },
   "file_extension": ".py",
   "mimetype": "text/x-python",
   "name": "python",
   "nbconvert_exporter": "python",
   "pygments_lexer": "ipython3",
   "version": "3.8.5"
  }
 },
 "nbformat": 4,
 "nbformat_minor": 5
}
